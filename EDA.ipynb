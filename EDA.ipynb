{
 "cells": [
  {
   "cell_type": "code",
   "execution_count": 2,
   "metadata": {},
   "outputs": [],
   "source": [
    "import pandas as pd\n",
    "import numpy as np"
   ]
  },
  {
   "cell_type": "code",
   "execution_count": 5,
   "metadata": {},
   "outputs": [
    {
     "name": "stdout",
     "output_type": "stream",
     "text": [
      "<class 'pandas.core.frame.DataFrame'>\n",
      "RangeIndex: 1767 entries, 0 to 1766\n",
      "Data columns (total 18 columns):\n",
      " #   Column                                        Non-Null Count  Dtype  \n",
      "---  ------                                        --------------  -----  \n",
      " 0   Date                                          1767 non-null   object \n",
      " 1   Subways_Ridership                             1767 non-null   int64  \n",
      " 2   Subways_Percentage_Prepandemic                1767 non-null   int64  \n",
      " 3   Buses_Ridership                               1767 non-null   int64  \n",
      " 4   Buses_Percentage_Prepandemic                  1767 non-null   int64  \n",
      " 5   LIRR_Ridership                                1767 non-null   int64  \n",
      " 6    LIRR_Percentage_Prepandemic                  1767 non-null   int64  \n",
      " 7   Metronorth_Ridership                          1767 non-null   int64  \n",
      " 8   Metronorth_Percentage_Prepandemic             1767 non-null   int64  \n",
      " 9   Access-A-Ride_Total Scheduled                 1767 non-null   int64  \n",
      " 10  Acces-A-Ride_Percentage_Prepandemic           1767 non-null   int64  \n",
      " 11  Bridges_and_Tunnel_Total_Traffic              1767 non-null   int64  \n",
      " 12  Bridges_and_Tunnels_Percentage_Prepandemic    1767 non-null   int64  \n",
      " 13  Staten_Island_Railway_Ridership               1767 non-null   int64  \n",
      " 14  Staten_Island_Rallway_Percentage_Prepandemic  1767 non-null   int64  \n",
      " 15  Day_of_Week                                   1767 non-null   object \n",
      " 16  Total_Ridership                               1767 non-null   int64  \n",
      " 17  Subway_Ridership_Ratio                        1767 non-null   float64\n",
      "dtypes: float64(1), int64(15), object(2)\n",
      "memory usage: 248.6+ KB\n"
     ]
    }
   ],
   "source": [
    "df = pd.read_csv('cleaned_ridership_df.csv')\n",
    "df.info()"
   ]
  },
  {
   "cell_type": "code",
   "execution_count": 7,
   "metadata": {},
   "outputs": [
    {
     "name": "stdout",
     "output_type": "stream",
     "text": [
      "Subways_Ridership: Min=198399, Max = 4527892\n",
      "Buses_Ridership: Min=5498, Max = 1715737\n",
      "LIRR_Ridership: Min=1903, Max = 284694\n",
      "Metronorth_Ridership: Min=3281, Max = 249585\n",
      "Staten_Island_Railway_Ridership: Min=0, Max = 11769\n",
      "Total_Ridership: Min=218007, Max = 7998253\n",
      "Subway_Ridership_Ratio: Min=0.3941113439978569, Max = 0.93029198787317\n"
     ]
    }
   ],
   "source": [
    "ridership_columns = [col for col in df.columns if 'Ridership' in col]\n",
    "for col in ridership_columns:\n",
    "    print (f\"{col}: Min={df[col].min()}, Max = {df[col].max()}\")"
   ]
  },
  {
   "cell_type": "markdown",
   "metadata": {},
   "source": [
    "### Scaling"
   ]
  },
  {
   "cell_type": "code",
   "execution_count": null,
   "metadata": {},
   "outputs": [],
   "source": []
  }
 ],
 "metadata": {
  "kernelspec": {
   "display_name": "Python 3",
   "language": "python",
   "name": "python3"
  },
  "language_info": {
   "codemirror_mode": {
    "name": "ipython",
    "version": 3
   },
   "file_extension": ".py",
   "mimetype": "text/x-python",
   "name": "python",
   "nbconvert_exporter": "python",
   "pygments_lexer": "ipython3",
   "version": "3.11.9"
  }
 },
 "nbformat": 4,
 "nbformat_minor": 2
}
